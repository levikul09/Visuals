{
 "cells": [
  {
   "cell_type": "code",
   "execution_count": 1,
   "metadata": {},
   "outputs": [],
   "source": [
    "import pandas as pd\n",
    "import matplotlib.pyplot as plt\n",
    "import numpy as np"
   ]
  },
  {
   "attachments": {},
   "cell_type": "markdown",
   "metadata": {},
   "source": [
    "Idea: https://community.storytellingwithdata.com/challenges/oct-2019-improve-this-table/using-the-right-display-to-tell-the-story/images"
   ]
  },
  {
   "cell_type": "code",
   "execution_count": 2,
   "metadata": {},
   "outputs": [],
   "source": [
    "df = pd.read_excel('data.xlsx')"
   ]
  },
  {
   "cell_type": "code",
   "execution_count": 3,
   "metadata": {},
   "outputs": [],
   "source": [
    "df = df.rename(columns={'% of subscribers': 'subs', '% of revenue': 'rev'})"
   ]
  },
  {
   "cell_type": "code",
   "execution_count": 4,
   "metadata": {},
   "outputs": [
    {
     "data": {
      "text/html": [
       "<div>\n",
       "<style scoped>\n",
       "    .dataframe tbody tr th:only-of-type {\n",
       "        vertical-align: middle;\n",
       "    }\n",
       "\n",
       "    .dataframe tbody tr th {\n",
       "        vertical-align: top;\n",
       "    }\n",
       "\n",
       "    .dataframe thead th {\n",
       "        text-align: right;\n",
       "    }\n",
       "</style>\n",
       "<table border=\"1\" class=\"dataframe\">\n",
       "  <thead>\n",
       "    <tr style=\"text-align: right;\">\n",
       "      <th></th>\n",
       "      <th>Tiers</th>\n",
       "      <th>subs</th>\n",
       "      <th>rev</th>\n",
       "    </tr>\n",
       "  </thead>\n",
       "  <tbody>\n",
       "    <tr>\n",
       "      <th>0</th>\n",
       "      <td>A</td>\n",
       "      <td>2</td>\n",
       "      <td>48</td>\n",
       "    </tr>\n",
       "    <tr>\n",
       "      <th>1</th>\n",
       "      <td>B</td>\n",
       "      <td>4</td>\n",
       "      <td>10</td>\n",
       "    </tr>\n",
       "    <tr>\n",
       "      <th>2</th>\n",
       "      <td>C</td>\n",
       "      <td>21</td>\n",
       "      <td>18</td>\n",
       "    </tr>\n",
       "    <tr>\n",
       "      <th>3</th>\n",
       "      <td>D</td>\n",
       "      <td>73</td>\n",
       "      <td>24</td>\n",
       "    </tr>\n",
       "  </tbody>\n",
       "</table>\n",
       "</div>"
      ],
      "text/plain": [
       "  Tiers  subs  rev\n",
       "0     A     2   48\n",
       "1     B     4   10\n",
       "2     C    21   18\n",
       "3     D    73   24"
      ]
     },
     "execution_count": 4,
     "metadata": {},
     "output_type": "execute_result"
    }
   ],
   "source": [
    "df"
   ]
  },
  {
   "cell_type": "code",
   "execution_count": 5,
   "metadata": {},
   "outputs": [],
   "source": [
    "df['colors']=['#F6AC30', '#BFBFBF', '#BFBFBF', '#50C250']"
   ]
  },
  {
   "cell_type": "code",
   "execution_count": 6,
   "metadata": {},
   "outputs": [
    {
     "data": {
      "text/html": [
       "<div>\n",
       "<style scoped>\n",
       "    .dataframe tbody tr th:only-of-type {\n",
       "        vertical-align: middle;\n",
       "    }\n",
       "\n",
       "    .dataframe tbody tr th {\n",
       "        vertical-align: top;\n",
       "    }\n",
       "\n",
       "    .dataframe thead th {\n",
       "        text-align: right;\n",
       "    }\n",
       "</style>\n",
       "<table border=\"1\" class=\"dataframe\">\n",
       "  <thead>\n",
       "    <tr style=\"text-align: right;\">\n",
       "      <th></th>\n",
       "      <th>Tiers</th>\n",
       "      <th>subs</th>\n",
       "      <th>rev</th>\n",
       "      <th>colors</th>\n",
       "    </tr>\n",
       "  </thead>\n",
       "  <tbody>\n",
       "    <tr>\n",
       "      <th>0</th>\n",
       "      <td>A</td>\n",
       "      <td>2</td>\n",
       "      <td>48</td>\n",
       "      <td>#F6AC30</td>\n",
       "    </tr>\n",
       "    <tr>\n",
       "      <th>1</th>\n",
       "      <td>B</td>\n",
       "      <td>4</td>\n",
       "      <td>10</td>\n",
       "      <td>#BFBFBF</td>\n",
       "    </tr>\n",
       "    <tr>\n",
       "      <th>2</th>\n",
       "      <td>C</td>\n",
       "      <td>21</td>\n",
       "      <td>18</td>\n",
       "      <td>#BFBFBF</td>\n",
       "    </tr>\n",
       "    <tr>\n",
       "      <th>3</th>\n",
       "      <td>D</td>\n",
       "      <td>73</td>\n",
       "      <td>24</td>\n",
       "      <td>#50C250</td>\n",
       "    </tr>\n",
       "  </tbody>\n",
       "</table>\n",
       "</div>"
      ],
      "text/plain": [
       "  Tiers  subs  rev   colors\n",
       "0     A     2   48  #F6AC30\n",
       "1     B     4   10  #BFBFBF\n",
       "2     C    21   18  #BFBFBF\n",
       "3     D    73   24  #50C250"
      ]
     },
     "execution_count": 6,
     "metadata": {},
     "output_type": "execute_result"
    }
   ],
   "source": [
    "df"
   ]
  },
  {
   "cell_type": "code",
   "execution_count": 7,
   "metadata": {},
   "outputs": [],
   "source": [
    "def color_title(labels, colors, textprops = {'size':'large'}, ax = None, y = 1.013,\n",
    "               precision = 10**-2):\n",
    "     \n",
    "    \"Creates a centered title with multiple colors. Don't change axes limits afterwards.\"\n",
    "        \n",
    "    if ax == None:\n",
    "        ax = plt.gca()\n",
    "        \n",
    "    plt.gcf().canvas.draw()\n",
    "    transform = ax.transAxes # use axes coords\n",
    "    \n",
    "    # initial params\n",
    "    xT = 0 # where the text ends in x-axis coords\n",
    "    shift = 0 # where the text starts\n",
    "    \n",
    "    # for text objects\n",
    "    text = dict()\n",
    "\n",
    "    while (np.abs(shift - (1-xT)) > precision) and (shift <= xT) :         \n",
    "        x_pos = shift \n",
    "        \n",
    "        for label, col in zip(labels, colors):\n",
    "\n",
    "            try:\n",
    "                text[label].remove()\n",
    "            except KeyError:\n",
    "                pass\n",
    "            \n",
    "            text[label] = ax.text(x_pos, y, label, \n",
    "                        transform = transform, \n",
    "                        ha = 'left',\n",
    "                        color = col,\n",
    "                                            **textprops)\n",
    "            \n",
    "            x_pos = text[label].get_window_extent()\\\n",
    "                   .transformed(transform.inverted()).x1\n",
    "            \n",
    "        xT = x_pos # where all text ends\n",
    "        \n",
    "        shift += precision/2 # increase for next iteration\n",
    "      \n",
    "        if x_pos > 1: # guardrail \n",
    "            break"
   ]
  },
  {
   "cell_type": "code",
   "execution_count": 8,
   "metadata": {},
   "outputs": [
    {
     "data": {
      "image/png": "[encoded data removed]",
      "text/plain": [
       "<Figure size 576x504 with 1 Axes>"
      ]
     },
     "metadata": {
      "needs_background": "light"
     },
     "output_type": "display_data"
    }
   ],
   "source": [
    "# Create playground\n",
    "fig, ax = plt.subplots(figsize=(8, 7))\n",
    "\n",
    "# Remove noise\n",
    "ax.spines[['bottom', 'top', 'left', 'right']].set_visible(False)\n",
    "ax.tick_params(axis='both', length=0)\n",
    "\n",
    "#Add vertical line\n",
    "ax.vlines(0,0,100, zorder=0,colors='#BFBFBF')\n",
    "ax.vlines(1,0,100, zorder=0,colors='#BFBFBF')\n",
    "\n",
    "# Plot the values\n",
    "ax.scatter(x=[0] * len(df.subs), y = df.subs, c=df.colors, s=120, zorder=1)\n",
    "ax.scatter(x=[1] * len(df.subs), y = df.rev, c=df.colors, s=120, zorder=1)\n",
    "\n",
    "# Plot the lines between values\n",
    "for a, b, c,t in zip(df.subs, df.rev, df['colors'],df.Tiers):\n",
    "    point1 = [0, a]\n",
    "    point2 = [1, b]\n",
    "    x_values = [point1[0], point2[0]]\n",
    "    y_values = [point1[1], point2[1]]\n",
    "    plt.plot(x_values, y_values, c=c, linestyle=\"-\", linewidth=4)\n",
    "    ax.text(x=point1[0]-0.4,y=point1[1],s=(f'Tier {t} - {a}%'),color=c, size=13)\n",
    "    ax.text(x=point2[0]+0.06,y=point2[1],s=(f'Tier {t} - {b}%'),color=c, size=13)\n",
    "    \n",
    "# Set limit \n",
    "ax.set_xlim(-0.5, 1.5)\n",
    "ax.set_ylim(0,80)\n",
    "\n",
    "# Set ticks for axes\n",
    "ax.set_yticks([])\n",
    "ax.set_xticks(np.arange(0,2,1))\n",
    "ax.set_xticklabels(['% of subscribers', '% of revenue'])\n",
    "ax.tick_params('x', labelsize=14)\n",
    "\n",
    "# Title color\n",
    "title_l1 = ['Tier D ', 'clients make up 73% of accounts but only 24% of revenue.']\n",
    "colors_1 = ['#50C250','#1E1E1E']\n",
    "title_l2 = ['Tier A ', 'clients make up only 2% of accounts but produced nearly half of revenue.']\n",
    "colors_2 = ['#F6AC30','#1E1E1E']\n",
    "color_title(title_l1, colors_1, y=1.07)\n",
    "color_title(title_l2, colors_2)\n",
    "\n",
    "#plt.savefig('revenuetiers.png', dpi=300, facecolor='white',bbox_inches='tight' )"
   ]
  }
 ],
 "metadata": {
  "kernelspec": {
   "display_name": "MLFenv",
   "language": "python",
   "name": "python3"
  },
  "language_info": {
   "codemirror_mode": {
    "name": "ipython",
    "version": 3
   },
   "file_extension": ".py",
   "mimetype": "text/x-python",
   "name": "python",
   "nbconvert_exporter": "python",
   "pygments_lexer": "ipython3",
   "version": "3.9.16"
  },
  "orig_nbformat": 4,
  "vscode": {
   "interpreter": {
    "hash": "737bd3e0976d60ca799851c839f91960efb19d361293b4772c927e7c090f3b9e"
   }
  }
 },
 "nbformat": 4,
 "nbformat_minor": 2
}
