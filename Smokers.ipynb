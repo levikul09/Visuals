{
 "cells": [
  {
   "cell_type": "code",
   "execution_count": 182,
   "metadata": {},
   "outputs": [],
   "source": [
    "import pandas as pd\n",
    "import matplotlib.pyplot as plt\n",
    "import country_converter as coco\n",
    "import numpy as np\n"
   ]
  },
  {
   "cell_type": "code",
   "execution_count": 183,
   "metadata": {},
   "outputs": [],
   "source": [
    "df = pd.read_csv('D:/Desktop/DP_LIVE_07022023165643383.csv')"
   ]
  },
  {
   "cell_type": "code",
   "execution_count": 184,
   "metadata": {},
   "outputs": [
    {
     "data": {
      "text/html": [
       "<div>\n",
       "<style scoped>\n",
       "    .dataframe tbody tr th:only-of-type {\n",
       "        vertical-align: middle;\n",
       "    }\n",
       "\n",
       "    .dataframe tbody tr th {\n",
       "        vertical-align: top;\n",
       "    }\n",
       "\n",
       "    .dataframe thead th {\n",
       "        text-align: right;\n",
       "    }\n",
       "</style>\n",
       "<table border=\"1\" class=\"dataframe\">\n",
       "  <thead>\n",
       "    <tr style=\"text-align: right;\">\n",
       "      <th></th>\n",
       "      <th>LOCATION</th>\n",
       "      <th>INDICATOR</th>\n",
       "      <th>SUBJECT</th>\n",
       "      <th>MEASURE</th>\n",
       "      <th>FREQUENCY</th>\n",
       "      <th>TIME</th>\n",
       "      <th>Value</th>\n",
       "      <th>Flag Codes</th>\n",
       "    </tr>\n",
       "  </thead>\n",
       "  <tbody>\n",
       "    <tr>\n",
       "      <th>69</th>\n",
       "      <td>CAN</td>\n",
       "      <td>SMOKERS</td>\n",
       "      <td>TOT</td>\n",
       "      <td>PC_POP15</td>\n",
       "      <td>A</td>\n",
       "      <td>2020</td>\n",
       "      <td>9.4</td>\n",
       "      <td>NaN</td>\n",
       "    </tr>\n",
       "    <tr>\n",
       "      <th>91</th>\n",
       "      <td>CZE</td>\n",
       "      <td>SMOKERS</td>\n",
       "      <td>TOT</td>\n",
       "      <td>PC_POP15</td>\n",
       "      <td>A</td>\n",
       "      <td>2020</td>\n",
       "      <td>16.6</td>\n",
       "      <td>NaN</td>\n",
       "    </tr>\n",
       "    <tr>\n",
       "      <th>178</th>\n",
       "      <td>FIN</td>\n",
       "      <td>SMOKERS</td>\n",
       "      <td>TOT</td>\n",
       "      <td>PC_POP15</td>\n",
       "      <td>A</td>\n",
       "      <td>2020</td>\n",
       "      <td>12.0</td>\n",
       "      <td>D</td>\n",
       "    </tr>\n",
       "    <tr>\n",
       "      <th>203</th>\n",
       "      <td>FRA</td>\n",
       "      <td>SMOKERS</td>\n",
       "      <td>TOT</td>\n",
       "      <td>PC_POP15</td>\n",
       "      <td>A</td>\n",
       "      <td>2020</td>\n",
       "      <td>25.5</td>\n",
       "      <td>NaN</td>\n",
       "    </tr>\n",
       "    <tr>\n",
       "      <th>261</th>\n",
       "      <td>ISL</td>\n",
       "      <td>SMOKERS</td>\n",
       "      <td>TOT</td>\n",
       "      <td>PC_POP15</td>\n",
       "      <td>A</td>\n",
       "      <td>2020</td>\n",
       "      <td>7.3</td>\n",
       "      <td>D</td>\n",
       "    </tr>\n",
       "  </tbody>\n",
       "</table>\n",
       "</div>"
      ],
      "text/plain": [
       "    LOCATION INDICATOR SUBJECT   MEASURE FREQUENCY  TIME  Value Flag Codes\n",
       "69       CAN   SMOKERS     TOT  PC_POP15         A  2020    9.4        NaN\n",
       "91       CZE   SMOKERS     TOT  PC_POP15         A  2020   16.6        NaN\n",
       "178      FIN   SMOKERS     TOT  PC_POP15         A  2020   12.0          D\n",
       "203      FRA   SMOKERS     TOT  PC_POP15         A  2020   25.5        NaN\n",
       "261      ISL   SMOKERS     TOT  PC_POP15         A  2020    7.3          D"
      ]
     },
     "execution_count": 184,
     "metadata": {},
     "output_type": "execute_result"
    }
   ],
   "source": [
    "df = df[df.TIME == 2020]\n",
    "df.head()"
   ]
  },
  {
   "cell_type": "code",
   "execution_count": 185,
   "metadata": {},
   "outputs": [],
   "source": [
    "pivot = df.pivot(index='LOCATION', columns='SUBJECT', values='Value').reset_index().sort_values(by='TOT', ascending=True)"
   ]
  },
  {
   "cell_type": "code",
   "execution_count": 186,
   "metadata": {},
   "outputs": [],
   "source": [
    "pivot['LOCATION'] = pivot.LOCATION.apply(lambda x: coco.convert(names=x, to='name_short', not_found=None))"
   ]
  },
  {
   "cell_type": "code",
   "execution_count": 187,
   "metadata": {},
   "outputs": [
    {
     "data": {
      "text/html": [
       "<div>\n",
       "<style scoped>\n",
       "    .dataframe tbody tr th:only-of-type {\n",
       "        vertical-align: middle;\n",
       "    }\n",
       "\n",
       "    .dataframe tbody tr th {\n",
       "        vertical-align: top;\n",
       "    }\n",
       "\n",
       "    .dataframe thead th {\n",
       "        text-align: right;\n",
       "    }\n",
       "</style>\n",
       "<table border=\"1\" class=\"dataframe\">\n",
       "  <thead>\n",
       "    <tr style=\"text-align: right;\">\n",
       "      <th>SUBJECT</th>\n",
       "      <th>LOCATION</th>\n",
       "      <th>MEN</th>\n",
       "      <th>TOT</th>\n",
       "      <th>WOMEN</th>\n",
       "    </tr>\n",
       "  </thead>\n",
       "  <tbody>\n",
       "    <tr>\n",
       "      <th>14</th>\n",
       "      <td>Iceland</td>\n",
       "      <td>6.7</td>\n",
       "      <td>7.3</td>\n",
       "      <td>7.9</td>\n",
       "    </tr>\n",
       "    <tr>\n",
       "      <th>18</th>\n",
       "      <td>Mexico</td>\n",
       "      <td>12.3</td>\n",
       "      <td>7.4</td>\n",
       "      <td>2.9</td>\n",
       "    </tr>\n",
       "    <tr>\n",
       "      <th>13</th>\n",
       "      <td>India</td>\n",
       "      <td>14.4</td>\n",
       "      <td>8.1</td>\n",
       "      <td>1.4</td>\n",
       "    </tr>\n",
       "    <tr>\n",
       "      <th>22</th>\n",
       "      <td>Peru</td>\n",
       "      <td>13.5</td>\n",
       "      <td>8.2</td>\n",
       "      <td>3.0</td>\n",
       "    </tr>\n",
       "    <tr>\n",
       "      <th>5</th>\n",
       "      <td>Costa Rica</td>\n",
       "      <td>12.2</td>\n",
       "      <td>8.4</td>\n",
       "      <td>4.6</td>\n",
       "    </tr>\n",
       "  </tbody>\n",
       "</table>\n",
       "</div>"
      ],
      "text/plain": [
       "SUBJECT    LOCATION   MEN  TOT  WOMEN\n",
       "14          Iceland   6.7  7.3    7.9\n",
       "18           Mexico  12.3  7.4    2.9\n",
       "13            India  14.4  8.1    1.4\n",
       "22             Peru  13.5  8.2    3.0\n",
       "5        Costa Rica  12.2  8.4    4.6"
      ]
     },
     "execution_count": 187,
     "metadata": {},
     "output_type": "execute_result"
    }
   ],
   "source": [
    "pivot.head()"
   ]
  },
  {
   "cell_type": "code",
   "execution_count": 188,
   "metadata": {},
   "outputs": [],
   "source": [
    "#Reference: https://colab.research.google.com/drive/1lKuaZUp8LggiDFbct0-DcUDMMYdvO4Tp?usp=sharing#scrollTo=sBkAKOCTYOek\n",
    "\n",
    "def color_title(labels, colors, textprops = {'size':'large'}, ax = None, y = 1.013,\n",
    "               precision = 10**-2):\n",
    "     \n",
    "    \"Creates a centered title with multiple colors. Don't change axes limits afterwards.\"\n",
    "        \n",
    "    if ax == None:\n",
    "        ax = plt.gca()\n",
    "        \n",
    "    plt.gcf().canvas.draw()\n",
    "    transform = ax.transAxes # use axes coords\n",
    "    \n",
    "    # initial params\n",
    "    xT = 0 # where the text ends in x-axis coords\n",
    "    shift = 0 # where the text starts\n",
    "    \n",
    "    # for text objects\n",
    "    text = dict()\n",
    "\n",
    "    while (np.abs(shift - (1-xT)) > precision) and (shift <= xT) :         \n",
    "        x_pos = shift \n",
    "        \n",
    "        for label, col in zip(labels, colors):\n",
    "\n",
    "            try:\n",
    "                text[label].remove()\n",
    "            except KeyError:\n",
    "                pass\n",
    "            \n",
    "            text[label] = ax.text(x_pos, y, label, \n",
    "                        transform = transform, \n",
    "                        ha = 'left',\n",
    "                        color = col,\n",
    "                                            **textprops)\n",
    "            \n",
    "            x_pos = text[label].get_window_extent()\\\n",
    "                   .transformed(transform.inverted()).x1\n",
    "            \n",
    "        xT = x_pos # where all text ends\n",
    "        \n",
    "        shift += precision/2 # increase for next iteration\n",
    "      \n",
    "        if x_pos > 1: # guardrail \n",
    "            break"
   ]
  },
  {
   "cell_type": "code",
   "execution_count": 195,
   "metadata": {},
   "outputs": [
    {
     "data": {
      "image/png": "[encoded data removed]",
      "text/plain": [
       "<Figure size 936x576 with 1 Axes>"
      ]
     },
     "metadata": {
      "needs_background": "light"
     },
     "output_type": "display_data"
    }
   ],
   "source": [
    "# Create playground\n",
    "fig, ax = plt.subplots(figsize=(13, 8))\n",
    "\n",
    "# Visuals\n",
    "pivot.plot.scatter(x='MEN',  y='LOCATION', ax=ax, color='#1E1E1E', s=60)\n",
    "pivot.plot.scatter(x='WOMEN', y='LOCATION', ax=ax,c='#FC7D0B', s=60)\n",
    "ax.hlines(y= range(0,len(pivot.index)), xmin=pivot['WOMEN'], xmax=pivot['MEN'], linewidth=5, color='#BDBDBD', zorder=0)\n",
    "\n",
    "\n",
    "# Background and remove noise\n",
    "ax.set_facecolor('#F5F5F5')\n",
    "ax.spines[['bottom', 'top', 'left', 'right']].set_visible(False)\n",
    "ax.tick_params(axis='both', length=0)\n",
    "ax.set(ylabel=None)\n",
    "ax.set(xlabel=None)\n",
    "\n",
    "# Title color\n",
    "label_list = ['% of smoking ', 'Women', ' and ', 'Men ', 'aged 15+']\n",
    "colors = ['#969FA7', '#FC7D0B', '#969FA7', '#1E1E1E', '#969FA7']\n",
    "color_title(label_list, colors)\n",
    "\n",
    "plt.text(0,-4,'Source: OECD', c='#969FA7');\n",
    "\n",
    "plt.savefig('Smokers.png', dpi=300, facecolor='#F5F5F5',bbox_inches='tight' )"
   ]
  }
 ],
 "metadata": {
  "kernelspec": {
   "display_name": "MLFenv",
   "language": "python",
   "name": "python3"
  },
  "language_info": {
   "codemirror_mode": {
    "name": "ipython",
    "version": 3
   },
   "file_extension": ".py",
   "mimetype": "text/x-python",
   "name": "python",
   "nbconvert_exporter": "python",
   "pygments_lexer": "ipython3",
   "version": "3.9.16"
  },
  "orig_nbformat": 4,
  "vscode": {
   "interpreter": {
    "hash": "737bd3e0976d60ca799851c839f91960efb19d361293b4772c927e7c090f3b9e"
   }
  }
 },
 "nbformat": 4,
 "nbformat_minor": 2
}
